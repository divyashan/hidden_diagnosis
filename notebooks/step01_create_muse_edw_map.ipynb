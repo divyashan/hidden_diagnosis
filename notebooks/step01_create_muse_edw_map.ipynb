{
 "cells": [
  {
   "cell_type": "code",
   "execution_count": 1,
   "metadata": {},
   "outputs": [],
   "source": [
    "# Background: We obtained demographic information extracted from the EDW \n",
    "# based on all names and dates of birth recorded in MUSE (the ECG database). \n",
    "# Here we combine all the files Annabel and Brianna sent over together.\n",
    "# The end goal is to obtain a PatientID for each relevant patient in MUSE, \n",
    "# so that we can extract outcomes stored in the EDW (accomplished in step02 notebook).\n",
    "import pandas as pd\n",
    "\n",
    "# Load all demographics files we have access to\n",
    "demographics_files= []\n",
    "for i in range(5):\n",
    "    demographics_files.append(pd.read_csv('../data_EDW_AF/afib_dems_a_part' + str(i+1) + '.csv', dtype='str'))\n",
    "first_file = pd.concat(demographics_files)\n",
    "first_file.drop(columns=['lastnm_edw', 'firstnm_edw', 'mrn_edw1', 'mrn_edw2', 'EDWPatientID'], inplace=True)\n",
    "\n",
    "second_file = pd.read_csv('../data_EDW_AF/ECGPositive_EDWinfo.csv', dtype='str')\n",
    "second_file['PatientRaceFinal'].fillna('nan', inplace=True)\n",
    "second_file['race_ethn_5'] = second_file['PatientRaceFinal'].map({'White': 'white', \n",
    "                                                                    'Declined or Unavailable': 'all_other',\n",
    "                                                                    'Hispanic or Latino': 'hisp_latin',\n",
    "                                                                    'Black of African American': 'black',\n",
    "                                                                    'Native American or Pacific Islandar': 'all_other',\n",
    "                                                                    'nan': 'all_other',\n",
    "                                                                    'Other': 'all_other'})\n",
    "second_file.drop(columns=['MRN', 'EDWPatientID'], inplace=True)\n",
    "\n",
    "\n",
    "third_file = []\n",
    "col_names = pd.read_csv('../data_EDW_AF/museleft_dems_part1.csv').columns\n",
    "for part in range(3):\n",
    "    if part == 0:\n",
    "        third_file.append(pd.read_csv('../data_EDW_AF/museleft_dems_part' + str(part+1) + '.csv', dtype='str'))\n",
    "    else:\n",
    "        third_file.append(pd.read_csv('../data_EDW_AF/museleft_dems_part' + str(part+1) + '.csv', names=col_names, dtype='str'))\n",
    "third_file = pd.concat(third_file)\n",
    "\n",
    "third_file.drop(columns=['lastnm_edw', 'firstnm_edw', 'mrn_edw1', 'mrn_edw2'], inplace=True)\n",
    "\n"
   ]
  },
  {
   "cell_type": "code",
   "execution_count": 67,
   "metadata": {},
   "outputs": [],
   "source": [
    "cols = ['PatientFirstName', 'PatientLastName', 'DOB']\n",
    "\n",
    "for df in [first_file, second_file, third_file]:\n",
    "    df['PatientFirstName'] = df['PatientFirstName'].str.lower()\n",
    "    df['PatientLastName'] = df['PatientLastName'].str.lower()\n",
    "\n",
    "    df['DOB'] = pd.to_datetime(df['DOB']).dt.floor('D')\n",
    "    df['DOB'] = df['DOB'].dt.strftime('%m-%d-%Y')\n",
    "    df['name_dob'] = df[cols].apply(lambda row: '_'.join(row.values.astype(str)), axis=1)\n",
    "\n",
    "muse_edw_map = pd.concat([first_file, second_file, third_file])\n",
    "muse_edw_map.to_csv('../outputs_intermediate/muse_edw_map.csv')\n"
   ]
  }
 ],
 "metadata": {
  "kernelspec": {
   "display_name": "scrape_env",
   "language": "python",
   "name": "python3"
  },
  "language_info": {
   "codemirror_mode": {
    "name": "ipython",
    "version": 3
   },
   "file_extension": ".py",
   "mimetype": "text/x-python",
   "name": "python",
   "nbconvert_exporter": "python",
   "pygments_lexer": "ipython3",
   "version": "3.11.0"
  },
  "orig_nbformat": 4
 },
 "nbformat": 4,
 "nbformat_minor": 2
}
